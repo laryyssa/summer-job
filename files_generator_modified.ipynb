{
 "cells": [
  {
   "cell_type": "code",
   "execution_count": 14,
   "metadata": {},
   "outputs": [],
   "source": [
    "import pandas as pd\n",
    "import datetime \n",
    "import threading\n",
    "import concurrent.futures\n",
    "\n",
    "from tqdm import tqdm "
   ]
  },
  {
   "cell_type": "code",
   "execution_count": 2,
   "metadata": {},
   "outputs": [
    {
     "name": "stdout",
     "output_type": "stream",
     "text": [
      "     trip_id        arrival_time departure_time   stop_id  stop_sequence\n",
      "0  1012-10-0 2023-03-02 18:00:00       18:00:00    301729              1\n",
      "1  1012-10-0 2023-03-02 18:01:54       18:01:54    301764              2\n",
      "2  1012-10-0 2023-03-02 18:03:48       18:03:48    301724              3\n",
      "3  1012-10-0 2023-03-02 18:05:42       18:05:42    301730              4\n",
      "4  1012-10-0 2023-03-02 18:07:36       18:07:36  30003042              5\n"
     ]
    }
   ],
   "source": [
    "stop_times = pd.read_csv('stop_times.txt', sep=',')\n",
    "stop_times['arrival_time'] = pd.to_datetime(stop_times['arrival_time'])\n",
    "\n",
    "print(stop_times.head())"
   ]
  },
  {
   "cell_type": "code",
   "execution_count": 5,
   "metadata": {},
   "outputs": [
    {
     "name": "stdout",
     "output_type": "stream",
     "text": [
      "trip_id         39786\n",
      "start_time      39786\n",
      "end_time        39786\n",
      "headway_secs    39786\n",
      "dtype: int64\n"
     ]
    }
   ],
   "source": [
    "frequencies = pd.read_csv('frequencies.txt', sep=',')\n",
    "frequencies['start_time'] = pd.to_datetime(frequencies['start_time'])\n",
    "# frequencies = frequencies[(frequencies['trip_id'] == '609F-21-0')].reset_index()\n",
    "print(frequencies.count())"
   ]
  },
  {
   "cell_type": "code",
   "execution_count": 15,
   "metadata": {},
   "outputs": [],
   "source": [
    "# partidas = pd.DataFrame({'departure_id': [], 'trip_id': [], 'departure_time': []})\n",
    "\n",
    "# def criacaoPartidas(df):\n",
    "#     for index, row in df.iterrows():\n",
    "#         time = 0\n",
    "#         timef = row['headway_secs']\n",
    "#         while time < 3600:\n",
    "#             dt = datetime.timedelta(seconds=time)\n",
    "#             ref_dt = row['start_time'] + dt\n",
    "#             hour = str(ref_dt.hour)\n",
    "#             min = str(ref_dt.minute)\n",
    "            \n",
    "#             new_partida = pd.DataFrame({'departure_id': [row['trip_id'] + '_' + hour +':'+ min],\n",
    "#                                         'trip_id':[row['trip_id']],\n",
    "#                                         'departure_time': [row['start_time'] + dt] })\n",
    "            \n",
    "#             #print(new_partida)\n",
    "#             partidas= pd.concat([partidas,new_partida],ignore_index=True)\n",
    "            \n",
    "#             time += timef\n",
    "            \n",
    "#     return new_partida['departure_id'].count()"
   ]
  },
  {
   "cell_type": "code",
   "execution_count": 37,
   "metadata": {},
   "outputs": [
    {
     "name": "stderr",
     "output_type": "stream",
     "text": [
      "100%|███████████████████████████████████| 39786/39786 [00:07<00:00, 5222.46it/s]\n"
     ]
    },
    {
     "name": "stdout",
     "output_type": "stream",
     "text": [
      "172844\n"
     ]
    }
   ],
   "source": [
    "partidas = {'departure_id': [], 'trip_id': [], 'departure_time': []}\n",
    "\n",
    "for i in tqdm(range(len(frequencies))):\n",
    "    time = 0\n",
    "    row = frequencies.iloc[i]\n",
    "    timef = int(row['headway_secs'])\n",
    "    while time < 3600:\n",
    "        dt = timedelta(seconds=time)\n",
    "        ref_dt = row['start_time'] + dt\n",
    "        hour = str(ref_dt.hour)\n",
    "        min = str(ref_dt.minute)\n",
    "        \n",
    "        partidas['departure_id'].append(row['trip_id'] + '_' + hour +':'+ min)\n",
    "        partidas['trip_id'].append(row['trip_id'])\n",
    "        partidas['departure_time'].append(row['start_time'] + dt)\n",
    "        \n",
    "        time += timef\n",
    "\n",
    "partidas = pd.DataFrame(partidas)\n",
    "print(partidas['departure_id'].count())"
   ]
  },
  {
   "cell_type": "code",
   "execution_count": 80,
   "metadata": {},
   "outputs": [],
   "source": [
    "partidas.to_csv(\"partidas.txt\")"
   ]
  },
  {
   "cell_type": "code",
   "execution_count": null,
   "metadata": {},
   "outputs": [],
   "source": [
    "\"\"\" listaTrip_id = frequencies.groupby('trip_id', as_index=False).count()\n",
    "listaTrip_id = listaTrip_id['trip_id']\n",
    "listaTrip_id = listaTrip_id.to_list()\n",
    "print(listaTrip_id) \"\"\""
   ]
  },
  {
   "cell_type": "code",
   "execution_count": 30,
   "metadata": {},
   "outputs": [
    {
     "data": {
      "text/plain": [
       "\" resultados = []\\ndfs = []\\nfor value in listaTrip_id:\\n    f = frequencies[(frequencies['trip_id'] == value)].reset_index()\\n    dfs.append(f)\\n\\n# crie um ThreadPoolExecutor com 2 threads (pode ser ajustado conforme necessário)\\nwith concurrent.futures.ThreadPoolExecutor(max_workers=2) as executor:\\n    \\n    resultados_threads = [executor.submit(criacaoPartidas, df) for df in dfs]\\n               \\n    # colete os resultados das threads conforme eles estiverem prontos\\n    for resultado in concurrent.futures.as_completed(resultados_threads):\\n        resultados.append(resultado.result())\\n\\n# concatene os resultados em um único dataframe\\ndf_final = pd.concat(resultados) \""
      ]
     },
     "execution_count": 30,
     "metadata": {},
     "output_type": "execute_result"
    }
   ],
   "source": [
    "\"\"\" resultados = []\n",
    "dfs = []\n",
    "for value in listaTrip_id:\n",
    "    f = frequencies[(frequencies['trip_id'] == value)].reset_index()\n",
    "    dfs.append(f)\n",
    "\n",
    "# crie um ThreadPoolExecutor com 2 threads (pode ser ajustado conforme necessário)\n",
    "with concurrent.futures.ThreadPoolExecutor(max_workers=2) as executor:\n",
    "    \n",
    "    resultados_threads = [executor.submit(criacaoPartidas, df) for df in dfs]\n",
    "               \n",
    "    # colete os resultados das threads conforme eles estiverem prontos\n",
    "    for resultado in concurrent.futures.as_completed(resultados_threads):\n",
    "        resultados.append(resultado.result())\n",
    "\n",
    "# concatene os resultados em um único dataframe\n",
    "df_final = pd.concat(resultados) \"\"\""
   ]
  },
  {
   "cell_type": "code",
   "execution_count": 31,
   "metadata": {},
   "outputs": [
    {
     "data": {
      "text/plain": [
       "\" \\nthreads = []\\nfor idx,value in enumerate(listaTrip_id):\\n    f = frequencies[(frequencies['trip_id'] == value)].reset_index()\\n    t = threading.Thread(target=criacaoPartidas, args=(f))\\n    threads.append(t)\\n    t.start()\\n\\nfor t in threads:\\n    t.join() \""
      ]
     },
     "execution_count": 31,
     "metadata": {},
     "output_type": "execute_result"
    }
   ],
   "source": [
    "\"\"\" f = ['1017-10-0', '1012-10-0']\n",
    "f1 = frequencies[(frequencies['trip_id'] == 1012-10-0)].reset_index() \"\"\"\n",
    "\"\"\" \n",
    "freq = []\n",
    "f1 = frequencies[(frequencies['trip_id'] == '1017-10-0')].reset_index()\n",
    "f2 = frequencies[(frequencies['trip_id'] == '1012-10-0')].reset_index()\n",
    "freq.append(f1)\n",
    "freq.append(f2)\n",
    "\n",
    "resultados= []\n",
    "threads = []\n",
    "for f in freq:\n",
    "    t = threading.Thread(target=criacaoPartidas, args=(f))\n",
    "    threads.append(t)\n",
    "    t.start()\n",
    "\n",
    "for t in threads:\n",
    "    t.join()\n",
    "\n",
    "for t in threads:\n",
    "    resultados.append(t.result())\n",
    "    print(resultados)\n",
    " \"\"\"\n",
    "\n",
    "\"-------------------------------------------------\"\n",
    "\"\"\" \n",
    "threads = []\n",
    "for idx,value in enumerate(listaTrip_id):\n",
    "    f = frequencies[(frequencies['trip_id'] == value)].reset_index()\n",
    "    t = threading.Thread(target=criacaoPartidas, args=(f))\n",
    "    threads.append(t)\n",
    "    t.start()\n",
    "\n",
    "for t in threads:\n",
    "    t.join() \"\"\"\n",
    "\n"
   ]
  },
  {
   "cell_type": "code",
   "execution_count": 19,
   "metadata": {},
   "outputs": [
    {
     "name": "stdout",
     "output_type": "stream",
     "text": [
      "trip_id           49\n",
      "arrival_time      49\n",
      "departure_time    49\n",
      "stop_id           49\n",
      "stop_sequence     49\n",
      "intervalos        49\n",
      "dtype: int64\n"
     ]
    }
   ],
   "source": [
    "intervals = stop_times[(stop_times['trip_id']== '609F-21-0')]\n",
    "print(intervals.count())"
   ]
  },
  {
   "cell_type": "code",
   "execution_count": 20,
   "metadata": {},
   "outputs": [],
   "source": [
    "#intervals = stop_times[(stop_times['trip_id']== '609F-21-0')]\n",
    "intervals = stop_times\n",
    "intervals['intervalos'] = intervals['arrival_time'].diff().fillna('00:00:00')\n",
    "intervals = intervals[['trip_id', 'stop_id', 'intervalos']]"
   ]
  },
  {
   "cell_type": "code",
   "execution_count": 35,
   "metadata": {},
   "outputs": [
    {
     "name": "stderr",
     "output_type": "stream",
     "text": [
      "  2%|▊                                   | 4108/172844 [00:35<24:35, 114.38it/s]\n"
     ]
    },
    {
     "ename": "KeyboardInterrupt",
     "evalue": "",
     "output_type": "error",
     "traceback": [
      "\u001b[0;31m---------------------------------------------------------------------------\u001b[0m",
      "\u001b[0;31mKeyboardInterrupt\u001b[0m                         Traceback (most recent call last)",
      "Input \u001b[0;32mIn [35]\u001b[0m, in \u001b[0;36m<cell line: 6>\u001b[0;34m()\u001b[0m\n\u001b[1;32m      7\u001b[0m row \u001b[38;5;241m=\u001b[39m partidas\u001b[38;5;241m.\u001b[39miloc[i]\n\u001b[1;32m      8\u001b[0m \u001b[38;5;28mid\u001b[39m \u001b[38;5;241m=\u001b[39m row[\u001b[38;5;124m'\u001b[39m\u001b[38;5;124mtrip_id\u001b[39m\u001b[38;5;124m'\u001b[39m]\n\u001b[0;32m----> 9\u001b[0m rota \u001b[38;5;241m=\u001b[39m intervals\u001b[38;5;241m.\u001b[39mloc[(\u001b[43mintervals\u001b[49m\u001b[43m[\u001b[49m\u001b[38;5;124;43m'\u001b[39;49m\u001b[38;5;124;43mtrip_id\u001b[39;49m\u001b[38;5;124;43m'\u001b[39;49m\u001b[43m]\u001b[49m\u001b[38;5;241;43m==\u001b[39;49m\u001b[38;5;28;43mid\u001b[39;49m)]\u001b[38;5;241m.\u001b[39mreset_index(drop\u001b[38;5;241m=\u001b[39m\u001b[38;5;28;01mTrue\u001b[39;00m)\n\u001b[1;32m     10\u001b[0m rota_count \u001b[38;5;241m=\u001b[39m rota[\u001b[38;5;124m'\u001b[39m\u001b[38;5;124mtrip_id\u001b[39m\u001b[38;5;124m'\u001b[39m]\u001b[38;5;241m.\u001b[39mcount()\n\u001b[1;32m     11\u001b[0m tempo_partida \u001b[38;5;241m=\u001b[39m row[\u001b[38;5;124m'\u001b[39m\u001b[38;5;124mdeparture_time\u001b[39m\u001b[38;5;124m'\u001b[39m]\n",
      "File \u001b[0;32m~/miniconda3/lib/python3.9/site-packages/pandas/core/ops/common.py:72\u001b[0m, in \u001b[0;36m_unpack_zerodim_and_defer.<locals>.new_method\u001b[0;34m(self, other)\u001b[0m\n\u001b[1;32m     68\u001b[0m             \u001b[38;5;28;01mreturn\u001b[39;00m \u001b[38;5;28mNotImplemented\u001b[39m\n\u001b[1;32m     70\u001b[0m other \u001b[38;5;241m=\u001b[39m item_from_zerodim(other)\n\u001b[0;32m---> 72\u001b[0m \u001b[38;5;28;01mreturn\u001b[39;00m \u001b[43mmethod\u001b[49m\u001b[43m(\u001b[49m\u001b[38;5;28;43mself\u001b[39;49m\u001b[43m,\u001b[49m\u001b[43m \u001b[49m\u001b[43mother\u001b[49m\u001b[43m)\u001b[49m\n",
      "File \u001b[0;32m~/miniconda3/lib/python3.9/site-packages/pandas/core/arraylike.py:42\u001b[0m, in \u001b[0;36mOpsMixin.__eq__\u001b[0;34m(self, other)\u001b[0m\n\u001b[1;32m     40\u001b[0m \u001b[38;5;129m@unpack_zerodim_and_defer\u001b[39m(\u001b[38;5;124m\"\u001b[39m\u001b[38;5;124m__eq__\u001b[39m\u001b[38;5;124m\"\u001b[39m)\n\u001b[1;32m     41\u001b[0m \u001b[38;5;28;01mdef\u001b[39;00m \u001b[38;5;21m__eq__\u001b[39m(\u001b[38;5;28mself\u001b[39m, other):\n\u001b[0;32m---> 42\u001b[0m     \u001b[38;5;28;01mreturn\u001b[39;00m \u001b[38;5;28;43mself\u001b[39;49m\u001b[38;5;241;43m.\u001b[39;49m\u001b[43m_cmp_method\u001b[49m\u001b[43m(\u001b[49m\u001b[43mother\u001b[49m\u001b[43m,\u001b[49m\u001b[43m \u001b[49m\u001b[43moperator\u001b[49m\u001b[38;5;241;43m.\u001b[39;49m\u001b[43meq\u001b[49m\u001b[43m)\u001b[49m\n",
      "File \u001b[0;32m~/miniconda3/lib/python3.9/site-packages/pandas/core/series.py:6243\u001b[0m, in \u001b[0;36mSeries._cmp_method\u001b[0;34m(self, other, op)\u001b[0m\n\u001b[1;32m   6240\u001b[0m rvalues \u001b[38;5;241m=\u001b[39m extract_array(other, extract_numpy\u001b[38;5;241m=\u001b[39m\u001b[38;5;28;01mTrue\u001b[39;00m, extract_range\u001b[38;5;241m=\u001b[39m\u001b[38;5;28;01mTrue\u001b[39;00m)\n\u001b[1;32m   6242\u001b[0m \u001b[38;5;28;01mwith\u001b[39;00m np\u001b[38;5;241m.\u001b[39merrstate(\u001b[38;5;28mall\u001b[39m\u001b[38;5;241m=\u001b[39m\u001b[38;5;124m\"\u001b[39m\u001b[38;5;124mignore\u001b[39m\u001b[38;5;124m\"\u001b[39m):\n\u001b[0;32m-> 6243\u001b[0m     res_values \u001b[38;5;241m=\u001b[39m \u001b[43mops\u001b[49m\u001b[38;5;241;43m.\u001b[39;49m\u001b[43mcomparison_op\u001b[49m\u001b[43m(\u001b[49m\u001b[43mlvalues\u001b[49m\u001b[43m,\u001b[49m\u001b[43m \u001b[49m\u001b[43mrvalues\u001b[49m\u001b[43m,\u001b[49m\u001b[43m \u001b[49m\u001b[43mop\u001b[49m\u001b[43m)\u001b[49m\n\u001b[1;32m   6245\u001b[0m \u001b[38;5;28;01mreturn\u001b[39;00m \u001b[38;5;28mself\u001b[39m\u001b[38;5;241m.\u001b[39m_construct_result(res_values, name\u001b[38;5;241m=\u001b[39mres_name)\n",
      "File \u001b[0;32m~/miniconda3/lib/python3.9/site-packages/pandas/core/ops/array_ops.py:287\u001b[0m, in \u001b[0;36mcomparison_op\u001b[0;34m(left, right, op)\u001b[0m\n\u001b[1;32m    284\u001b[0m     \u001b[38;5;28;01mreturn\u001b[39;00m invalid_comparison(lvalues, rvalues, op)\n\u001b[1;32m    286\u001b[0m \u001b[38;5;28;01melif\u001b[39;00m is_object_dtype(lvalues\u001b[38;5;241m.\u001b[39mdtype) \u001b[38;5;129;01mor\u001b[39;00m \u001b[38;5;28misinstance\u001b[39m(rvalues, \u001b[38;5;28mstr\u001b[39m):\n\u001b[0;32m--> 287\u001b[0m     res_values \u001b[38;5;241m=\u001b[39m \u001b[43mcomp_method_OBJECT_ARRAY\u001b[49m\u001b[43m(\u001b[49m\u001b[43mop\u001b[49m\u001b[43m,\u001b[49m\u001b[43m \u001b[49m\u001b[43mlvalues\u001b[49m\u001b[43m,\u001b[49m\u001b[43m \u001b[49m\u001b[43mrvalues\u001b[49m\u001b[43m)\u001b[49m\n\u001b[1;32m    289\u001b[0m \u001b[38;5;28;01melse\u001b[39;00m:\n\u001b[1;32m    290\u001b[0m     res_values \u001b[38;5;241m=\u001b[39m _na_arithmetic_op(lvalues, rvalues, op, is_cmp\u001b[38;5;241m=\u001b[39m\u001b[38;5;28;01mTrue\u001b[39;00m)\n",
      "File \u001b[0;32m~/miniconda3/lib/python3.9/site-packages/pandas/core/ops/array_ops.py:75\u001b[0m, in \u001b[0;36mcomp_method_OBJECT_ARRAY\u001b[0;34m(op, x, y)\u001b[0m\n\u001b[1;32m     73\u001b[0m     result \u001b[38;5;241m=\u001b[39m libops\u001b[38;5;241m.\u001b[39mvec_compare(x\u001b[38;5;241m.\u001b[39mravel(), y\u001b[38;5;241m.\u001b[39mravel(), op)\n\u001b[1;32m     74\u001b[0m \u001b[38;5;28;01melse\u001b[39;00m:\n\u001b[0;32m---> 75\u001b[0m     result \u001b[38;5;241m=\u001b[39m \u001b[43mlibops\u001b[49m\u001b[38;5;241;43m.\u001b[39;49m\u001b[43mscalar_compare\u001b[49m\u001b[43m(\u001b[49m\u001b[43mx\u001b[49m\u001b[38;5;241;43m.\u001b[39;49m\u001b[43mravel\u001b[49m\u001b[43m(\u001b[49m\u001b[43m)\u001b[49m\u001b[43m,\u001b[49m\u001b[43m \u001b[49m\u001b[43my\u001b[49m\u001b[43m,\u001b[49m\u001b[43m \u001b[49m\u001b[43mop\u001b[49m\u001b[43m)\u001b[49m\n\u001b[1;32m     76\u001b[0m \u001b[38;5;28;01mreturn\u001b[39;00m result\u001b[38;5;241m.\u001b[39mreshape(x\u001b[38;5;241m.\u001b[39mshape)\n",
      "\u001b[0;31mKeyboardInterrupt\u001b[0m: "
     ]
    }
   ],
   "source": [
    "new_stop_times = {'departure_id': [],\n",
    "                               'trip_id': [],\n",
    "                               'arrival_time':[],\n",
    "                               'stop_id':[]}\n",
    "\n",
    "for i in tqdm(range(len(partidas))):\n",
    "    row = partidas.iloc[i]\n",
    "    id = row['trip_id']\n",
    "    rota = intervals.loc[(intervals['trip_id']==id)].reset_index(drop=True)\n",
    "    rota_count = rota['trip_id'].count()\n",
    "    tempo_partida = row['departure_time']\n",
    "    tempo = row['departure_time']\n",
    "    for i in range(rota_count):\n",
    "        tempo += rota.loc[i, 'intervalos']\n",
    "        \n",
    "        new_stop_times['departure_id'].append(row['departure_id'])\n",
    "        new_stop_times['trip_id'].append(row['trip_id'])\n",
    "        new_stop_times['arrival_time'].append(tempo),\n",
    "        new_stop_times['stop_id'].append(int(rota.loc[i,'stop_id']))\n",
    "\n",
    "new_stop_times = pd.DataFrame(new_stop_times)"
   ]
  },
  {
   "cell_type": "code",
   "execution_count": 192,
   "metadata": {},
   "outputs": [
    {
     "name": "stdout",
     "output_type": "stream",
     "text": [
      "       departure_id    trip_id        arrival_time   stop_id  hour\n",
      "219  1012-10-0_6:24  1012-10-0 2023-03-01 07:02:00    301771     7\n",
      "233  1012-10-0_6:36  1012-10-0 2023-03-01 07:00:42    301714     7\n",
      "234  1012-10-0_6:36  1012-10-0 2023-03-01 07:02:36    301768     7\n",
      "235  1012-10-0_6:36  1012-10-0 2023-03-01 07:04:30  30003015     7\n",
      "236  1012-10-0_6:36  1012-10-0 2023-03-01 07:06:24  30003018     7\n",
      "..              ...        ...                 ...       ...   ...\n",
      "442  1012-10-0_8:48  1012-10-0 2023-03-01 08:51:48    301724     8\n",
      "443  1012-10-0_8:48  1012-10-0 2023-03-01 08:53:42    301730     8\n",
      "444  1012-10-0_8:48  1012-10-0 2023-03-01 08:55:36  30003042     8\n",
      "445  1012-10-0_8:48  1012-10-0 2023-03-01 08:57:30  30003045     8\n",
      "446  1012-10-0_8:48  1012-10-0 2023-03-01 08:59:24  30003043     8\n",
      "\n",
      "[200 rows x 5 columns]\n"
     ]
    }
   ],
   "source": [
    "new_stop_times['hour'] = new_stop_times['arrival_time'].dt.hour\n",
    "new = new_stop_times.loc[(new_stop_times['hour'] >= 7) & (new_stop_times['hour'] < 9)]\n",
    "print(new)"
   ]
  }
 ],
 "metadata": {
  "kernelspec": {
   "display_name": "Python 3 (ipykernel)",
   "language": "python",
   "name": "python3"
  },
  "language_info": {
   "codemirror_mode": {
    "name": "ipython",
    "version": 3
   },
   "file_extension": ".py",
   "mimetype": "text/x-python",
   "name": "python",
   "nbconvert_exporter": "python",
   "pygments_lexer": "ipython3",
   "version": "3.9.12"
  },
  "vscode": {
   "interpreter": {
    "hash": "5bd619618230b09d5d3e05a2fee0ab06fc16f3274a0e31eba6b2efbcbb9b42ae"
   }
  }
 },
 "nbformat": 4,
 "nbformat_minor": 2
}
