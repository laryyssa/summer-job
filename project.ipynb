{
 "cells": [
  {
   "cell_type": "code",
   "execution_count": null,
   "metadata": {},
   "outputs": [],
   "source": [
    "import pandas as pd"
   ]
  },
  {
   "cell_type": "code",
   "execution_count": null,
   "metadata": {},
   "outputs": [],
   "source": [
    "df_zonas = pd.DataFrame({'zona_nome': [], #tem\n",
    "                         'pontos_total': [],#tem\n",
    "                         'pontos_freq': [],#tem\n",
    "                         'edu_total': [],#tem\n",
    "                         'edu_freq': [], #tem# qtd de eqp de educação dentro do buffer da zona x\n",
    "                         'saude_total': [],#\n",
    "                         'saude_freq': [], ## qtd de eqp de saude dentro do buffer da zona x\n",
    "                         \n",
    "                         'area_km2':[],   \n",
    "                         'populacao': []\n",
    "                         \n",
    "                         })\n",
    "#'p_acessibilidade': [], # (%acessibilidade_saude + %acessibilidade_edu) / 2 => % de acessibilidade da zona x\n",
    "# acessibilidade == qtd_dentro_buffer / qtd_total"
   ]
  },
  {
   "cell_type": "code",
   "execution_count": null,
   "metadata": {},
   "outputs": [],
   "source": [
    "df_zonas.loc[len(df_zonas)] = ['Leste', \n",
    "                               7275,\n",
    "                               4968,\n",
    "                               2671,\n",
    "                               2641,\n",
    "                               367,\n",
    "                               362,\n",
    "                               331.492236,\n",
    "                               #2045449\n",
    "                               3415623\n",
    "                               ]\n",
    "print(df_zonas)"
   ]
  },
  {
   "cell_type": "code",
   "execution_count": null,
   "metadata": {},
   "outputs": [],
   "source": [
    "df_zonas.loc[len(df_zonas)] = ['Norte', \n",
    "                               4439,\n",
    "                               2813,\n",
    "                               1432,\n",
    "                               1410,\n",
    "                               190,\n",
    "                               187,\n",
    "                               296.872238,\n",
    "                               #1125738\n",
    "                               2189273\n",
    "                               \n",
    "                               ]"
   ]
  },
  {
   "cell_type": "code",
   "execution_count": null,
   "metadata": {},
   "outputs": [],
   "source": [
    "df_zonas.loc[len(df_zonas)] = ['Sul', \n",
    "                               6017,\n",
    "                               3731,\n",
    "                               2203,\n",
    "                               2153,\n",
    "                               362,\n",
    "                               341,\n",
    "                               740.469917,\n",
    "                               #1962725\n",
    "                               2252079\n",
    "                               \n",
    "                               ]"
   ]
  },
  {
   "cell_type": "code",
   "execution_count": null,
   "metadata": {},
   "outputs": [],
   "source": [
    "df_zonas.loc[len(df_zonas)] = ['Oeste', \n",
    "                               2260,\n",
    "                               1337,\n",
    "                               712,\n",
    "                               677,\n",
    "                               98,\n",
    "                               93,\n",
    "                               128.988375,\n",
    "                               #904226\n",
    "                               888623\n",
    "                               \n",
    "                               ]"
   ]
  },
  {
   "cell_type": "code",
   "execution_count": null,
   "metadata": {},
   "outputs": [],
   "source": [
    "df_zonas.loc[len(df_zonas)] = ['Centro', \n",
    "                               806,\n",
    "                               501,\n",
    "                               243,\n",
    "                               241,\n",
    "                               73,\n",
    "                               73,\n",
    "                               26.662624,\n",
    "                               #639277\n",
    "                               431106\n",
    "                               \n",
    "                               ]"
   ]
  },
  {
   "cell_type": "code",
   "execution_count": null,
   "metadata": {},
   "outputs": [],
   "source": [
    "print(df_zonas)"
   ]
  },
  {
   "cell_type": "code",
   "execution_count": null,
   "metadata": {},
   "outputs": [],
   "source": [
    "for index, row in df_zonas.iterrows():\n",
    "    p_edu = row['edu_freq'] / row['edu_total']\n",
    "    p_sau = row['saude_freq'] / row['saude_total']\n",
    "    df_zonas.loc[index,'p_acessibilidade'] = (p_edu + p_sau)/2\n",
    "    df_zonas.loc[index,'densidade'] = row['populacao']/row['area_km2']\n",
    "    df_zonas.loc[index,'pontos_por_km2'] = row['pontos_total']/row['area_km2']\n",
    "    df_zonas.loc[index,'pontos_f_por_km2'] = row['pontos_freq']/row['area_km2']\n",
    "    df_zonas.loc[index,'%_pontos_f'] = row['pontos_freq']/20928\n",
    "    df_zonas.loc[index,'edu_por_km2'] = row['edu_total']/row['area_km2']\n",
    "    \n",
    "print(df_zonas)"
   ]
  },
  {
   "cell_type": "code",
   "execution_count": null,
   "metadata": {},
   "outputs": [],
   "source": [
    "df_bairros = pd.read_csv(\"bairro_populacao.csv\", sep=',')"
   ]
  },
  {
   "cell_type": "code",
   "execution_count": null,
   "metadata": {},
   "outputs": [],
   "source": [
    "df_bairros.drop(['populacao', 'area_hect', 'habit_hect', 'ano_densid','an_censo'], axis=1)\n",
    "print(df_bairros.columns)"
   ]
  },
  {
   "cell_type": "code",
   "execution_count": null,
   "metadata": {},
   "outputs": [],
   "source": [
    "df_bairros = df_bairros.groupby('ds_nome', as_index=False).agg({'ds_codigo':'first', \n",
    "                                                                'ds_cd_sub':'first', \n",
    "                                                                'ds_subpref':'first', \n",
    "                                                                'ds_sigla':'first',\n",
    "                                                                'ds_areamt':'first', \n",
    "                                                                'ds_areakm':'first', \n",
    "                                                                'ID':'first', \n",
    "                                                                'AREA':'first', \n",
    "                                                                'COD_REG_5':'first', \n",
    "                                                                'NOME':'first', \n",
    "                                                                'id_2':'first',       \n",
    "                                                                'setor_cens':'first', \n",
    "                                                                'populacao':'sum', \n",
    "                                                                'area_hect':'first', \n",
    "                                                                'habit_hect':'first', \n",
    "                                                                'ano_densid':'first',       \n",
    "                                                                'an_censo':'first', \n",
    "                                                                'qtd_pop_por_bairro':'first'})\n",
    "\n",
    "print(df_bairros.head())"
   ]
  },
  {
   "cell_type": "code",
   "execution_count": null,
   "metadata": {},
   "outputs": [],
   "source": [
    "print(df_bairros[df_bairros['ds_nome'].isin(['SAO DOMINGOS','VILA MARIANA'])])"
   ]
  },
  {
   "cell_type": "code",
   "execution_count": null,
   "metadata": {},
   "outputs": [],
   "source": [
    "df_metro = df_bairros[df_bairros['ds_codigo'].isin([76,73,72,71,70, 7, 69, 66, 62, 60, 6, 59, 5, 49, 46, 45, 38, 37, 34, 32, 26, 19, 15, 12, 10])]\n",
    "print(df_metro[['ds_nome','populacao']])"
   ]
  },
  {
   "cell_type": "code",
   "execution_count": null,
   "metadata": {},
   "outputs": [],
   "source": [
    "print(df_metro['populacao'].sum()/df_bairros['populacao'].sum())"
   ]
  },
  {
   "cell_type": "code",
   "execution_count": null,
   "metadata": {},
   "outputs": [],
   "source": [
    "df = pd.merge(df_bairros, df_zonas, on= 'zona_nome')\n",
    "df = df.rename(columns={'ID': 'zona_id', \n",
    "                                        'AREA': 'zona_area', \n",
    "                                        'COD_REG_5': 'zona_cod_5', \n",
    "                                        'ZONA': 'zona_nome',\n",
    "                                        'pontos_por_km2': 'pontos_km2_zona',\n",
    "                                        'pontos_f_por_km2': 'pontosf_km2_zona'\n",
    "                                        })\n"
   ]
  },
  {
   "cell_type": "code",
   "execution_count": null,
   "metadata": {},
   "outputs": [],
   "source": [
    "sd = df[df['ds_nome']=='SAO DOMINGOS']\n",
    "print(sd.loc[:,['pontos_total', 'pontos_freq']])"
   ]
  }
 ],
 "metadata": {
  "language_info": {
   "name": "python"
  },
  "orig_nbformat": 4
 },
 "nbformat": 4,
 "nbformat_minor": 2
}
